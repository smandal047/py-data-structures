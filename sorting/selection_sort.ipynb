{
 "cells": [
  {
   "cell_type": "markdown",
   "id": "a4883a42-f35c-4699-b712-fdf0a074c236",
   "metadata": {},
   "source": [
    "# Selection Sort"
   ]
  },
  {
   "cell_type": "raw",
   "id": "a50e3c83-12c6-41fe-9f26-4b0cb6c89fda",
   "metadata": {},
   "source": [
    "For every iteration the process finds the maximum number and swaps it for the minimum number present in the sliced array. The slicing is done because all the items before slicing are already sorted and only the sliced portion require sorting."
   ]
  },
  {
   "cell_type": "code",
   "execution_count": 27,
   "id": "cfdde5c1-dad4-43f3-a0d2-75833f9bf5bc",
   "metadata": {},
   "outputs": [],
   "source": [
    "def selection_sort(arr):\n",
    "    length = len(arr)\n",
    "\n",
    "    for step in range(length):\n",
    "        \n",
    "        # for every iteration the LHS is be\n",
    "        sliced_array = arr[step:]\n",
    "\n",
    "        max_holder = sliced_array[0]\n",
    "        max_index = 0\n",
    "        \n",
    "        # find max item and its index\n",
    "        for index, item in enumerate(sliced_array):\n",
    "            if item > max_holder:\n",
    "                max_holder = item\n",
    "                max_index = index\n",
    "        \n",
    "        # swap the max item index with zeroth index of sliced array. As this is inplace-sorting\n",
    "        # original array is used. If we assume step = 0, we have our sliced array.\n",
    "        arr[step], arr[step + max_index] = arr[step + max_index], arr[step]\n",
    "\n",
    "    return arr        "
   ]
  },
  {
   "cell_type": "markdown",
   "id": "c4848bf3-eb5e-45bf-8750-cc5fc155037f",
   "metadata": {
    "tags": []
   },
   "source": [
    "## if __name__ == '__main__':"
   ]
  },
  {
   "cell_type": "code",
   "execution_count": 34,
   "id": "ef2f8772-220b-495a-939e-671ea4eabe20",
   "metadata": {},
   "outputs": [],
   "source": [
    "a = [5, 8, 6, 4, 0, 9, 1]\n",
    "temp = 1\n",
    "import random\n",
    "\n",
    "b = [random.randint(100, 100000) for i in range(10000)]"
   ]
  },
  {
   "cell_type": "code",
   "execution_count": 37,
   "id": "19e9f78c-4bc2-4e7a-a615-f4c7c37a06dd",
   "metadata": {
    "tags": []
   },
   "outputs": [
    {
     "name": "stdout",
     "output_type": "stream",
     "text": [
      "Wall time: 0 ns\n"
     ]
    },
    {
     "data": {
      "text/plain": [
       "[9, 8, 6, 5, 4, 1, 0]"
      ]
     },
     "execution_count": 37,
     "metadata": {},
     "output_type": "execute_result"
    }
   ],
   "source": [
    "%%time\n",
    "\n",
    "selection_sort(a)\n",
    "# temp"
   ]
  },
  {
   "cell_type": "markdown",
   "id": "cf41bbc4-f817-4f4f-b691-9fe293add842",
   "metadata": {
    "tags": []
   },
   "source": [
    "## complexity"
   ]
  },
  {
   "cell_type": "raw",
   "id": "a7e8a0a8-cfe6-4ec6-b4d5-2cc95289b43b",
   "metadata": {
    "tags": []
   },
   "source": [
    "worst case complexity - O(n**2)\n",
    "best case (simple)    - O(n**2)\n",
    "space complexity      - O(1)"
   ]
  }
 ],
 "metadata": {
  "kernelspec": {
   "display_name": "Python 3 (ipykernel)",
   "language": "python",
   "name": "python3"
  },
  "language_info": {
   "codemirror_mode": {
    "name": "ipython",
    "version": 3
   },
   "file_extension": ".py",
   "mimetype": "text/x-python",
   "name": "python",
   "nbconvert_exporter": "python",
   "pygments_lexer": "ipython3",
   "version": "3.7.5"
  }
 },
 "nbformat": 4,
 "nbformat_minor": 5
}
