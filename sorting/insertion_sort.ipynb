{
 "cells": [
  {
   "cell_type": "markdown",
   "id": "907cb581-d169-418f-bcc8-e5fbfb06eb1b",
   "metadata": {},
   "source": [
    "# Insertion Sort"
   ]
  },
  {
   "cell_type": "code",
   "execution_count": 4,
   "id": "a42c1ebb-9e82-4ea5-a300-9597131726fc",
   "metadata": {},
   "outputs": [],
   "source": [
    "def swap(arr, i1, i2):\n",
    "    arr[i1], arr[i2] = arr[i2], arr[i1]"
   ]
  },
  {
   "cell_type": "code",
   "execution_count": 1,
   "id": "fdc8e0d6-8be5-4fe2-9109-3962d9c1c91c",
   "metadata": {},
   "outputs": [],
   "source": [
    "def insertion_sort(arr):\n",
    "    length = len(arr)\n",
    "\n",
    "    for index in range(1, length - 1):\n",
    "\n",
    "        # checking for the next item, if its greater swap\n",
    "        if arr[index] > arr[index + 1]:\n",
    "            swap(arr, index, index + 1)\n",
    "\n",
    "            # backtrack all the positions and compare with sorted sub-list\n",
    "            # if the previous item is greater then swap and repeat\n",
    "            while arr[index] < arr[index - 1] and index > 0:\n",
    "                swap(arr, index, index - 1)\n",
    "                index -= 1\n",
    "\n",
    "    return arr"
   ]
  },
  {
   "cell_type": "markdown",
   "id": "f114c3b8-dd9e-4d84-97a5-ca1a4d2b1be1",
   "metadata": {
    "tags": []
   },
   "source": [
    "## if __name__ == '__main__':"
   ]
  },
  {
   "cell_type": "code",
   "execution_count": 2,
   "id": "76d2986b-6003-4c4d-af4d-c9994ab33b18",
   "metadata": {},
   "outputs": [],
   "source": [
    "a = [5, 8, 6, 4, 0, 9, 1]\n",
    "temp = 1\n",
    "import random\n",
    "\n",
    "b = [random.randint(100, 100000) for i in range(10000)]"
   ]
  },
  {
   "cell_type": "code",
   "execution_count": 5,
   "id": "1856354f-b117-43e7-a007-5f156518bbc9",
   "metadata": {
    "tags": []
   },
   "outputs": [
    {
     "name": "stdout",
     "output_type": "stream",
     "text": [
      "Wall time: 0 ns\n"
     ]
    },
    {
     "data": {
      "text/plain": [
       "[0, 1, 4, 5, 6, 8, 9]"
      ]
     },
     "execution_count": 5,
     "metadata": {},
     "output_type": "execute_result"
    }
   ],
   "source": [
    "%%time\n",
    "\n",
    "insertion_sort(a)\n",
    "# temp"
   ]
  },
  {
   "cell_type": "markdown",
   "id": "41334cbf-8683-44bb-9f4e-80537763e74f",
   "metadata": {
    "tags": []
   },
   "source": [
    "## complexity"
   ]
  },
  {
   "cell_type": "raw",
   "id": "0b8400b7-b6e2-4b92-b38a-b887c3f7656d",
   "metadata": {
    "tags": []
   },
   "source": [
    "worst case complexity - O(n**2)\n",
    "best case (simple)    - O(n**2)\n",
    "space complexity      - O(n**2)"
   ]
  }
 ],
 "metadata": {
  "kernelspec": {
   "display_name": "Python 3 (ipykernel)",
   "language": "python",
   "name": "python3"
  },
  "language_info": {
   "codemirror_mode": {
    "name": "ipython",
    "version": 3
   },
   "file_extension": ".py",
   "mimetype": "text/x-python",
   "name": "python",
   "nbconvert_exporter": "python",
   "pygments_lexer": "ipython3",
   "version": "3.7.5"
  }
 },
 "nbformat": 4,
 "nbformat_minor": 5
}
