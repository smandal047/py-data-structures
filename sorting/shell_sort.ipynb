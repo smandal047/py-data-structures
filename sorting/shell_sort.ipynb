{
 "cells": [
  {
   "cell_type": "code",
   "execution_count": 4,
   "id": "25b8da87-fb60-434a-92c3-3f8361490cae",
   "metadata": {},
   "outputs": [],
   "source": [
    "def swap(arr, i1, i2):\n",
    "    arr[i1], arr[i2] = arr[i2], arr[i1]"
   ]
  },
  {
   "cell_type": "code",
   "execution_count": 1,
   "id": "fefec969-fcd1-4fbb-8de8-1f802445af1e",
   "metadata": {},
   "outputs": [],
   "source": [
    "def shell_sort(arr):\n",
    "    length = len(arr)\n",
    "\n",
    "    interval_size = length // 2\n",
    "\n",
    "    while interval_size > 0:\n",
    "\n",
    "        for index in range(1, length - interval_size):\n",
    "\n",
    "            if arr[index] > arr[index + interval_size]:\n",
    "                swap(arr, index, index + interval_size)\n",
    "\n",
    "                while arr[index] < arr[index - interval_size] and index > 0:\n",
    "                    swap(arr, index, index - interval_size)\n",
    "                    index -= 1\n",
    "\n",
    "        interval_size //= 2\n",
    "\n",
    "    return arr"
   ]
  },
  {
   "cell_type": "markdown",
   "id": "0ad16b58-7c3d-4079-82d0-4082516266c2",
   "metadata": {
    "tags": []
   },
   "source": [
    "## if __name__ == '__main__':"
   ]
  },
  {
   "cell_type": "code",
   "execution_count": 2,
   "id": "3bcdd75b-54ed-4d68-af1b-eebae86193b2",
   "metadata": {},
   "outputs": [],
   "source": [
    "a = [5, 8, 6, 4, 0, 9, 1]\n",
    "temp = 1\n",
    "import random\n",
    "\n",
    "b = [random.randint(100, 100000) for i in range(10000)]"
   ]
  },
  {
   "cell_type": "code",
   "execution_count": 5,
   "id": "35e62298-49f4-40cd-96a3-36a8edbdf5b8",
   "metadata": {
    "tags": []
   },
   "outputs": [
    {
     "name": "stdout",
     "output_type": "stream",
     "text": [
      "Wall time: 0 ns\n"
     ]
    },
    {
     "data": {
      "text/plain": [
       "[0, 1, 4, 5, 6, 8, 9]"
      ]
     },
     "execution_count": 5,
     "metadata": {},
     "output_type": "execute_result"
    }
   ],
   "source": [
    "%%time\n",
    "\n",
    "shell_sort(a)\n",
    "# temp"
   ]
  },
  {
   "cell_type": "markdown",
   "id": "571e2ecc-2719-4acd-8693-db50609c1518",
   "metadata": {
    "tags": []
   },
   "source": [
    "## complexity"
   ]
  },
  {
   "cell_type": "raw",
   "id": "3c85dec4-0179-4f57-8090-1ed9cee93945",
   "metadata": {
    "tags": []
   },
   "source": [
    "worst case complexity - O(nlogn**2)\n",
    "best case (simple)    - O(n)\n",
    "space complexity      - O(1)"
   ]
  }
 ],
 "metadata": {
  "kernelspec": {
   "display_name": "Python 3 (ipykernel)",
   "language": "python",
   "name": "python3"
  },
  "language_info": {
   "codemirror_mode": {
    "name": "ipython",
    "version": 3
   },
   "file_extension": ".py",
   "mimetype": "text/x-python",
   "name": "python",
   "nbconvert_exporter": "python",
   "pygments_lexer": "ipython3",
   "version": "3.7.5"
  }
 },
 "nbformat": 4,
 "nbformat_minor": 5
}
