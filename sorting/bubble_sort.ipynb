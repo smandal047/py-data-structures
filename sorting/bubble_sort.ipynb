{
 "cells": [
  {
   "cell_type": "markdown",
   "id": "463a6cc0-2f01-4731-8252-564dbefe5bd8",
   "metadata": {},
   "source": [
    "# Bubble Sort"
   ]
  },
  {
   "cell_type": "raw",
   "id": "88948535-7b53-4417-9a3a-3ae1aee67b04",
   "metadata": {},
   "source": [
    "For each item in the list, the process swaps the item with its immediate neighbor if its greater than its neighbor."
   ]
  },
  {
   "cell_type": "raw",
   "id": "7499ec1e-9b27-4c80-a648-fbf37088c519",
   "metadata": {},
   "source": [
    "def bubble_sort(arr): --> big O of n**2"
   ]
  },
  {
   "cell_type": "code",
   "execution_count": 1,
   "id": "3cc34d9d-adf8-48c7-b985-79f9083a34be",
   "metadata": {},
   "outputs": [],
   "source": [
    "def bubble_sort(arr):\n",
    "    \n",
    "    length = len(arr)\n",
    "\n",
    "    for step in range(length):\n",
    "\n",
    "        for index, item in enumerate(arr):\n",
    "\n",
    "            if index + 1 == length:\n",
    "                break\n",
    "            \n",
    "            # to sort in ascending order change the inequality sign\n",
    "            if arr[index] < arr[index + 1]:\n",
    "                arr[index], arr[index + 1] = arr[index + 1], arr[index]\n",
    "\n",
    "    return arr"
   ]
  },
  {
   "cell_type": "raw",
   "id": "a5aec123-980c-4552-ba64-c1e8a2e719fe",
   "metadata": {},
   "source": [
    "def improved_bubble_sort(arr): --> big 0 of n"
   ]
  },
  {
   "cell_type": "raw",
   "id": "36f85dc6-da32-446f-8062-286a393e10a9",
   "metadata": {},
   "source": [
    "checking for sorted, if the array is already sorted end the operation. The sorted"
   ]
  },
  {
   "cell_type": "code",
   "execution_count": 139,
   "id": "df32a6e0-2509-42c7-9428-1e937cbefd62",
   "metadata": {},
   "outputs": [],
   "source": [
    "def improved_bubble_sort(arr):\n",
    "    \n",
    "    length = len(arr)\n",
    "\n",
    "    for step in range(length - 1):\n",
    "        sorted = True\n",
    "\n",
    "        for index in range(length - 1 - step):\n",
    "\n",
    "            if arr[index] < arr[index + 1]:\n",
    "                arr[index], arr[index + 1] = arr[index + 1], arr[index]\n",
    "                sorted = False\n",
    "        \n",
    "        # we are skipping the whole sorting process if the array is sorted\n",
    "        if sorted:\n",
    "            break\n",
    "\n",
    "    return arr"
   ]
  },
  {
   "cell_type": "markdown",
   "id": "ea127515-4b5c-4e9b-9e15-a0e6a648ce42",
   "metadata": {
    "tags": []
   },
   "source": [
    "## if __name__ == '__main__':"
   ]
  },
  {
   "cell_type": "code",
   "execution_count": 142,
   "id": "ef2f8772-220b-495a-939e-671ea4eabe20",
   "metadata": {},
   "outputs": [],
   "source": [
    "a = [5, 8, 6, 4, 0, 9, 1]\n",
    "temp = 1\n",
    "import random\n",
    "\n",
    "b = [random.randint(100, 100000) for i in range(10000)]"
   ]
  },
  {
   "cell_type": "code",
   "execution_count": 145,
   "id": "1948e156-43bf-4635-89f9-f07fc8d7c949",
   "metadata": {},
   "outputs": [
    {
     "name": "stdout",
     "output_type": "stream",
     "text": [
      "[9, 8, 6, 5, 4, 1, 0]\n"
     ]
    },
    {
     "data": {
      "text/plain": [
       "[9, 8, 6, 5, 4, 1, 0]"
      ]
     },
     "execution_count": 145,
     "metadata": {},
     "output_type": "execute_result"
    }
   ],
   "source": [
    "print(bubble_sort(a))\n",
    "improved_bubble_sort(a)"
   ]
  },
  {
   "cell_type": "code",
   "execution_count": 143,
   "id": "19e9f78c-4bc2-4e7a-a615-f4c7c37a06dd",
   "metadata": {
    "tags": []
   },
   "outputs": [
    {
     "name": "stdout",
     "output_type": "stream",
     "text": [
      "Wall time: 46.1 s\n"
     ]
    },
    {
     "data": {
      "text/plain": [
       "1"
      ]
     },
     "execution_count": 143,
     "metadata": {},
     "output_type": "execute_result"
    }
   ],
   "source": [
    "%%time\n",
    "\n",
    "bubble_sort(b)\n",
    "# improved_bubble_sort(b)\n",
    "temp"
   ]
  },
  {
   "cell_type": "code",
   "execution_count": 144,
   "id": "2c1a8801-b8f8-4ac5-8f6b-b4181ea7bc1c",
   "metadata": {},
   "outputs": [
    {
     "name": "stdout",
     "output_type": "stream",
     "text": [
      "Wall time: 11.2 s\n"
     ]
    },
    {
     "data": {
      "text/plain": [
       "1"
      ]
     },
     "execution_count": 144,
     "metadata": {},
     "output_type": "execute_result"
    }
   ],
   "source": [
    "%%time\n",
    "\n",
    "# bubble_sort(b)\n",
    "improved_bubble_sort(b)\n",
    "temp"
   ]
  },
  {
   "cell_type": "markdown",
   "id": "3454b1f1-7c63-48fc-b123-4377a2dba0fe",
   "metadata": {},
   "source": [
    "## complexity"
   ]
  },
  {
   "cell_type": "raw",
   "id": "6df1cdce-d2b0-414a-821a-e2e029428ce4",
   "metadata": {},
   "source": [
    "worst case complexity - O(n**2)\n",
    "best case (improved)  - O(n)\n",
    "best case (simple)    - O(n**2)\n",
    "space complexity      - O(1)"
   ]
  }
 ],
 "metadata": {
  "kernelspec": {
   "display_name": "Python 3 (ipykernel)",
   "language": "python",
   "name": "python3"
  },
  "language_info": {
   "codemirror_mode": {
    "name": "ipython",
    "version": 3
   },
   "file_extension": ".py",
   "mimetype": "text/x-python",
   "name": "python",
   "nbconvert_exporter": "python",
   "pygments_lexer": "ipython3",
   "version": "3.7.5"
  }
 },
 "nbformat": 4,
 "nbformat_minor": 5
}
