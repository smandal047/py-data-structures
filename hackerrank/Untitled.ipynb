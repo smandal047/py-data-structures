{
 "cells": [
  {
   "cell_type": "code",
   "execution_count": 1,
   "id": "939384e4-2662-453e-a777-2b74ea5b6d0e",
   "metadata": {},
   "outputs": [],
   "source": [
    "q = [[1, 0, 5], [1, 1, 7], [1, 0, 3], [2, 1, 0], [2, 1, 1]]\n",
    "n = 2"
   ]
  },
  {
   "cell_type": "code",
   "execution_count": 3,
   "id": "04e103d8-346c-45a5-8dc1-e68861e4d391",
   "metadata": {},
   "outputs": [],
   "source": [
    "def dynamicArray(n, queries):\n",
    "    # Write your code here\n",
    "    # print(n, queries)\n",
    "    last_ans = 0\n",
    "    arr = [[], []]\n",
    "    ans_arr = []\n",
    "    print(queries)\n",
    "    \n",
    "    for i in queries:\n",
    "        q = i[0]\n",
    "        x = i[1]\n",
    "        y = i[2]\n",
    "        \n",
    "        idx = XOR(x, last_ans) % n\n",
    "        if q == 1:\n",
    "            arr[idx].append(y)\n",
    "        elif q == 2:\n",
    "            last_ans = arr[idx]#[y % len(arr[idx])]\n",
    "            ans_arr.append(last_ans)\n",
    "        print(i, arr, ' ', ans_arr, last_ans)       \n",
    "    return ans_arr"
   ]
  },
  {
   "cell_type": "code",
   "execution_count": 4,
   "id": "6a491db2-a4e4-402f-b7f0-e4058d4b2c7d",
   "metadata": {},
   "outputs": [
    {
     "name": "stdout",
     "output_type": "stream",
     "text": [
      "[[1, 0, 5], [1, 1, 7], [1, 0, 3], [2, 1, 0], [2, 1, 1]]\n",
      "[1, 0, 5] [[5], []]   [] 0\n",
      "[1, 1, 7] [[5], [7]]   [] 0\n",
      "[1, 0, 3] [[5, 3], [7]]   [] 0\n",
      "[2, 1, 0] [[5, 3], [7]]   [[7]] [7]\n",
      "[2, 1, 1] [[5, 3], [7]]   [[7], [7]] [7]\n"
     ]
    },
    {
     "data": {
      "text/plain": [
       "[[7], [7]]"
      ]
     },
     "execution_count": 4,
     "metadata": {},
     "output_type": "execute_result"
    }
   ],
   "source": [
    "dynamicArray(n,q)"
   ]
  }
 ],
 "metadata": {
  "kernelspec": {
   "display_name": "Python 3 (ipykernel)",
   "language": "python",
   "name": "python3"
  },
  "language_info": {
   "codemirror_mode": {
    "name": "ipython",
    "version": 3
   },
   "file_extension": ".py",
   "mimetype": "text/x-python",
   "name": "python",
   "nbconvert_exporter": "python",
   "pygments_lexer": "ipython3",
   "version": "3.7.5"
  }
 },
 "nbformat": 4,
 "nbformat_minor": 5
}
