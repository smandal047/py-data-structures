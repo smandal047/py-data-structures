{
 "cells": [
  {
   "cell_type": "markdown",
   "id": "ca4f95c1-ae3a-47b1-b895-10a9543a01b4",
   "metadata": {},
   "source": [
    "# Plan"
   ]
  },
  {
   "cell_type": "markdown",
   "id": "526e9ae7-46c6-4b06-8c2c-1e6c989d8004",
   "metadata": {},
   "source": [
    "## Day 1: "
   ]
  },
  {
   "cell_type": "raw",
   "id": "4c9d9ce5-84cd-4ee9-8191-cc3460b7fecc",
   "metadata": {},
   "source": [
    "Understand the concept of Algorithmic complexity. Skip the theory for now, but for every piece of code you write, you should be able to derive both time and space complexity."
   ]
  },
  {
   "cell_type": "markdown",
   "id": "15236f52-a11b-40d7-86d5-8b8264a3a2cd",
   "metadata": {},
   "source": [
    "## Day 2 - 10: Let’s start with some simple data structures,"
   ]
  },
  {
   "cell_type": "raw",
   "id": "23c2ba8a-c837-415d-b01b-378da6fc75b6",
   "metadata": {},
   "source": [
    "Arrays\n",
    "Linked Lists\n",
    "Strings\n",
    "Stacks\n",
    "Queues\n",
    "Understand their basic operations (insert, delete, search, traversal) and their complexity - Big-O Algorithm Complexity Cheat Sheet, and code them all."
   ]
  },
  {
   "cell_type": "markdown",
   "id": "1cefa79e-02dc-4f89-9129-2f367ccbf460",
   "metadata": {},
   "source": [
    "## Day 11 - 25: Let’s now learn some simple algorithms,"
   ]
  },
  {
   "cell_type": "raw",
   "id": "e81259f3-e3dc-460b-be76-6173c2868700",
   "metadata": {},
   "source": [
    "Sorting - Insertion sort, Merge sort, Quick sort, Heap sort, Bucket sort, Counting sort, Radix sort, External sorting\n",
    "Search - Linear search, Binary Search (along with its variants).\n",
    "Prime Numbers - Sieve of Eratosthenes, Primality test\n",
    "Strings - String searching, LCS, Palindrome detection\n",
    "Miscellaneous - Euclidean algorithm, Matrix multiplication, Fibonacci Numbers, Pascal's Triangle, Max Subarray problem"
   ]
  },
  {
   "cell_type": "markdown",
   "id": "636794be-436d-4b0e-9e51-92b408652efe",
   "metadata": {},
   "source": [
    "## Day 26 - 50: Once you are comfortable with everything above, start doing problems from,"
   ]
  },
  {
   "cell_type": "raw",
   "id": "e5f330b1-6606-4f86-98d2-ce860a228b01",
   "metadata": {},
   "source": [
    "Cracking the Coding Interview\n",
    "Elements of Programming Interviews\n",
    "Programming Interviews Exposed: Secrets to Landing Your Next Job\n",
    "GeeksforGeeks\n",
    "HackerRank\n",
    "InterviewBit\n",
    "Stick to chapters of arrays, linked lists, strings, stacks, queues and complexity."
   ]
  },
  {
   "cell_type": "markdown",
   "id": "15011415-1dee-4f3a-aee0-70eb29d1077c",
   "metadata": {},
   "source": [
    "## Day 51 - 60: Let’s learn some non-linear data structures,"
   ]
  },
  {
   "cell_type": "raw",
   "id": "eb325aa8-11b5-48da-afbe-42e999cf4dd3",
   "metadata": {},
   "source": [
    "Tree\n",
    "Binary Tree, Binary Search Tree - Tree traversals, Lowest common ancestor, Depth, Height & Diameter, Finding k-th smallest element\n",
    "Heaps\n",
    "Hash table - 4 sum problem, Checking if sudoku solution is valid\n",
    "Graph - Breadth-first search, Depth-first search, Topological sorting, Minimum spanning tree, Shortest path problem,"
   ]
  },
  {
   "cell_type": "markdown",
   "id": "a2b48627-6c4b-44e0-b952-c67753467db8",
   "metadata": {},
   "source": [
    "## Day 61- 90: "
   ]
  },
  {
   "cell_type": "raw",
   "id": "aea2335a-37fe-46ef-aac7-6819a6939112",
   "metadata": {},
   "source": [
    "Refer to the previous resources and start doing problems from trees, hash tables, heaps and graphs."
   ]
  },
  {
   "cell_type": "markdown",
   "id": "1cd164d4-5fc3-4552-b425-db9a18259f01",
   "metadata": {},
   "source": [
    "## Day 91 - 100: "
   ]
  },
  {
   "cell_type": "raw",
   "id": "f458dcff-f7c4-4550-9231-ad1073b3fe1c",
   "metadata": {},
   "source": [
    "Understand Computational complexity theory and NP-completeness, Knapsack problem, Travelling salesman problem, SAT problem and so on."
   ]
  },
  {
   "cell_type": "markdown",
   "id": "78618b46-7856-4e2b-a853-f807b53c751a",
   "metadata": {},
   "source": [
    "## Day 101 -  ∞ :"
   ]
  },
  {
   "cell_type": "raw",
   "id": "89ba8c68-209d-4c5b-bd84-8212b51fade0",
   "metadata": {},
   "source": [
    "You are now better than most of the CS undergrads. Keep revising the above topics and start competitive programming! Good luck!"
   ]
  },
  {
   "cell_type": "raw",
   "id": "13a39abd-4262-49e0-8a51-19c1fd035bc9",
   "metadata": {},
   "source": []
  }
 ],
 "metadata": {
  "kernelspec": {
   "display_name": "Python 3 (ipykernel)",
   "language": "python",
   "name": "python3"
  },
  "language_info": {
   "codemirror_mode": {
    "name": "ipython",
    "version": 3
   },
   "file_extension": ".py",
   "mimetype": "text/x-python",
   "name": "python",
   "nbconvert_exporter": "python",
   "pygments_lexer": "ipython3",
   "version": "3.7.5"
  }
 },
 "nbformat": 4,
 "nbformat_minor": 5
}
