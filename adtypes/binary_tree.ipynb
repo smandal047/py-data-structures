{
 "cells": [
  {
   "cell_type": "code",
   "execution_count": 2,
   "id": "3c473732-1df2-495e-bbc8-8c6091ef3ea9",
   "metadata": {},
   "outputs": [],
   "source": [
    "\n"
   ]
  },
  {
   "cell_type": "code",
   "execution_count": null,
   "id": "a78e90c7-7e5d-4d86-b520-56debd21d716",
   "metadata": {},
   "outputs": [],
   "source": [
    "class Tree:\n",
    "    \n",
    "    def __init__(self, data, left, right):\n",
    "        self.data = data\n",
    "        self.left = left\n",
    "        self.right  = right\n",
    "        \n",
    "    def insert(data):\n",
    "        if self.data == data:\n",
    "            return False\n",
    "        elif self.data > data:\n",
    "            if self.left is not None:\n",
    "                return self.left.insert(data)\n",
    "            else:\n",
    "                self.left = Tree(data)\n",
    "        else:\n",
    "            if self.right is not None:\n",
    "                return self.right.insert(data)\n",
    "            else:\n",
    "                self.right = Tree(data)\n",
    "        \n",
    "        \n",
    "        \n",
    "    "
   ]
  }
 ],
 "metadata": {
  "kernelspec": {
   "display_name": "Python 3 (ipykernel)",
   "language": "python",
   "name": "python3"
  },
  "language_info": {
   "codemirror_mode": {
    "name": "ipython",
    "version": 3
   },
   "file_extension": ".py",
   "mimetype": "text/x-python",
   "name": "python",
   "nbconvert_exporter": "python",
   "pygments_lexer": "ipython3",
   "version": "3.7.5"
  }
 },
 "nbformat": 4,
 "nbformat_minor": 5
}
