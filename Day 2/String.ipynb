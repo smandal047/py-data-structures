{
 "cells": [
  {
   "cell_type": "code",
   "execution_count": 1,
   "id": "663180f2-2eff-4c6c-a45e-d8547dd1031b",
   "metadata": {},
   "outputs": [],
   "source": [
    "a = 'this is a string'"
   ]
  },
  {
   "cell_type": "code",
   "execution_count": 2,
   "id": "4085f458-97ee-482a-b023-f993f41828f2",
   "metadata": {},
   "outputs": [
    {
     "data": {
      "text/plain": [
       "['__add__',\n",
       " '__class__',\n",
       " '__contains__',\n",
       " '__delattr__',\n",
       " '__dir__',\n",
       " '__doc__',\n",
       " '__eq__',\n",
       " '__format__',\n",
       " '__ge__',\n",
       " '__getattribute__',\n",
       " '__getitem__',\n",
       " '__getnewargs__',\n",
       " '__gt__',\n",
       " '__hash__',\n",
       " '__init__',\n",
       " '__init_subclass__',\n",
       " '__iter__',\n",
       " '__le__',\n",
       " '__len__',\n",
       " '__lt__',\n",
       " '__mod__',\n",
       " '__mul__',\n",
       " '__ne__',\n",
       " '__new__',\n",
       " '__reduce__',\n",
       " '__reduce_ex__',\n",
       " '__repr__',\n",
       " '__rmod__',\n",
       " '__rmul__',\n",
       " '__setattr__',\n",
       " '__sizeof__',\n",
       " '__str__',\n",
       " '__subclasshook__',\n",
       " 'capitalize',\n",
       " 'casefold',\n",
       " 'center',\n",
       " 'count',\n",
       " 'encode',\n",
       " 'endswith',\n",
       " 'expandtabs',\n",
       " 'find',\n",
       " 'format',\n",
       " 'format_map',\n",
       " 'index',\n",
       " 'isalnum',\n",
       " 'isalpha',\n",
       " 'isascii',\n",
       " 'isdecimal',\n",
       " 'isdigit',\n",
       " 'isidentifier',\n",
       " 'islower',\n",
       " 'isnumeric',\n",
       " 'isprintable',\n",
       " 'isspace',\n",
       " 'istitle',\n",
       " 'isupper',\n",
       " 'join',\n",
       " 'ljust',\n",
       " 'lower',\n",
       " 'lstrip',\n",
       " 'maketrans',\n",
       " 'partition',\n",
       " 'replace',\n",
       " 'rfind',\n",
       " 'rindex',\n",
       " 'rjust',\n",
       " 'rpartition',\n",
       " 'rsplit',\n",
       " 'rstrip',\n",
       " 'split',\n",
       " 'splitlines',\n",
       " 'startswith',\n",
       " 'strip',\n",
       " 'swapcase',\n",
       " 'title',\n",
       " 'translate',\n",
       " 'upper',\n",
       " 'zfill']"
      ]
     },
     "execution_count": 2,
     "metadata": {},
     "output_type": "execute_result"
    }
   ],
   "source": [
    "dir(a)"
   ]
  },
  {
   "cell_type": "markdown",
   "id": "0860adbc-e06e-4edd-990d-4ab40d070bcf",
   "metadata": {},
   "source": [
    "# String"
   ]
  },
  {
   "cell_type": "markdown",
   "id": "b82a1828-2eb2-489c-98a9-1f05b81dccfb",
   "metadata": {},
   "source": [
    "## string attributes"
   ]
  },
  {
   "cell_type": "code",
   "execution_count": null,
   "id": "e54fd199-6bd4-4090-8af7-58603b0c0116",
   "metadata": {},
   "outputs": [],
   "source": [
    "'capitalize',\n",
    "'casefold',\n",
    "'center',\n",
    "'count',\n",
    "'encode',\n",
    "'endswith',\n",
    "'expandtabs',\n",
    "'find',\n",
    "'format',\n",
    "'format_map',\n",
    "'index',\n",
    "'isalnum',\n",
    "'isalpha',\n",
    "'isascii',\n",
    "'isdecimal',\n",
    "'isdigit',\n",
    "'isidentifier',\n",
    "'islower',\n",
    "'isnumeric',\n",
    "'isprintable',\n",
    "'isspace',\n",
    "'istitle',\n",
    "'isupper',\n",
    "'join',\n",
    "'ljust',\n",
    "'lower',\n",
    "'lstrip',\n",
    "'maketrans',\n",
    "'partition',\n",
    "'replace',\n",
    "'rfind',\n",
    "'rindex',\n",
    "'rjust',\n",
    "'rpartition',\n",
    "'rsplit',\n",
    "'rstrip',\n",
    "'split',\n",
    "'splitlines',\n",
    "'startswith',\n",
    "'strip',\n",
    "'swapcase',\n",
    "'title',\n",
    "'translate',\n",
    "'upper',\n",
    "'zfill'"
   ]
  },
  {
   "cell_type": "markdown",
   "id": "c1ed8619-af22-4d22-bec3-5dbad48aa5ee",
   "metadata": {},
   "source": [
    "### capitalize"
   ]
  },
  {
   "cell_type": "code",
   "execution_count": 2,
   "id": "d83a9b9a-c287-4013-9ee7-5f7712354384",
   "metadata": {},
   "outputs": [
    {
     "data": {
      "text/plain": [
       "'Hhi this is this'"
      ]
     },
     "execution_count": 2,
     "metadata": {},
     "output_type": "execute_result"
    }
   ],
   "source": [
    "'hhi THis is THIS'.capitalize()"
   ]
  },
  {
   "cell_type": "markdown",
   "id": "8afa6507-04bc-4bfb-b89d-f7de4566e257",
   "metadata": {},
   "source": [
    "### casefold"
   ]
  },
  {
   "cell_type": "code",
   "execution_count": 7,
   "id": "a2a955ca-b1f1-4032-b3df-e78f0e7980b2",
   "metadata": {},
   "outputs": [
    {
     "data": {
      "text/plain": [
       "'this'"
      ]
     },
     "execution_count": 7,
     "metadata": {},
     "output_type": "execute_result"
    }
   ],
   "source": [
    "'THis'.casefold() # converts to lower case, intended to remove all case distinctions in a string"
   ]
  },
  {
   "cell_type": "code",
   "execution_count": 19,
   "id": "bab8abab-0321-4505-a320-ab32ec3f99f6",
   "metadata": {},
   "outputs": [
    {
     "data": {
      "text/plain": [
       "'ss'"
      ]
     },
     "execution_count": 19,
     "metadata": {},
     "output_type": "execute_result"
    }
   ],
   "source": [
    "'ß'.casefold() # a aggresive lowercase converter"
   ]
  },
  {
   "cell_type": "markdown",
   "id": "fc7beb21-8057-4522-b354-f1b91795773e",
   "metadata": {},
   "source": [
    "### center"
   ]
  },
  {
   "cell_type": "code",
   "execution_count": 24,
   "id": "68328917-1ee2-4f0a-94b3-bab5855d9f21",
   "metadata": {},
   "outputs": [
    {
     "data": {
      "text/plain": [
       "'***||||||||||||||||||||||||||||||||||||||||||this is at center|||||||||||||||||||||||||||||||||||||||||||***'"
      ]
     },
     "execution_count": 24,
     "metadata": {},
     "output_type": "execute_result"
    }
   ],
   "source": [
    "'***' + 'this is at center'.center(102, '|') + '***' # if width is <= lenght of string it returns original string"
   ]
  },
  {
   "cell_type": "markdown",
   "id": "0defd21f",
   "metadata": {},
   "source": [
    "### count"
   ]
  },
  {
   "cell_type": "code",
   "execution_count": 12,
   "id": "7a752128-c3ae-42dd-bf5e-31f2df398ad3",
   "metadata": {},
   "outputs": [
    {
     "data": {
      "text/plain": [
       "1"
      ]
     },
     "execution_count": 12,
     "metadata": {},
     "output_type": "execute_result"
    }
   ],
   "source": [
    "'hhi THis is THIS'.count('hi') # counts the overlapped text in argument"
   ]
  },
  {
   "cell_type": "code",
   "execution_count": 17,
   "id": "28e06c62-be49-471c-bc10-384feff96ed5",
   "metadata": {},
   "outputs": [
    {
     "data": {
      "text/plain": [
       "1"
      ]
     },
     "execution_count": 17,
     "metadata": {},
     "output_type": "execute_result"
    }
   ],
   "source": [
    "'hhi THis is THIS'.count('THIS', 12,16)  ## numbers are original string slicing indexes"
   ]
  },
  {
   "cell_type": "markdown",
   "id": "4357cd2f",
   "metadata": {},
   "source": [
    "### encode"
   ]
  },
  {
   "cell_type": "code",
   "execution_count": 18,
   "id": "c81d49b3",
   "metadata": {},
   "outputs": [
    {
     "data": {
      "text/plain": [
       "b'\\x88\\x89@\\xa3\\x88\\x89\\xa2@\\x89\\xa2@\\xe4\\xe3\\xc6`\\xf8@\\x83\\x96\\x84\\x85\\x84'"
      ]
     },
     "execution_count": 18,
     "metadata": {},
     "output_type": "execute_result"
    }
   ],
   "source": [
    "'hi this is UTF-8 coded'.encode('cp273') #encoded to GERMAN codec"
   ]
  },
  {
   "cell_type": "markdown",
   "id": "84b7d68f",
   "metadata": {},
   "source": [
    "### endswith"
   ]
  },
  {
   "cell_type": "code",
   "execution_count": 20,
   "id": "0c594764",
   "metadata": {},
   "outputs": [
    {
     "data": {
      "text/plain": [
       "True"
      ]
     },
     "execution_count": 20,
     "metadata": {},
     "output_type": "execute_result"
    }
   ],
   "source": [
    "'this is end'.endswith('end') # Return True if the string ends with the specified suffix"
   ]
  },
  {
   "cell_type": "code",
   "execution_count": 25,
   "id": "c421048c",
   "metadata": {},
   "outputs": [
    {
     "data": {
      "text/plain": [
       "True"
      ]
     },
     "execution_count": 25,
     "metadata": {},
     "output_type": "execute_result"
    }
   ],
   "source": [
    "'this is a end'.endswith('a' , 6, 9)  ## slices the original string"
   ]
  }
 ],
 "metadata": {
  "kernelspec": {
   "display_name": "Python 3.8.9 ('venv': venv)",
   "language": "python",
   "name": "python3"
  },
  "language_info": {
   "codemirror_mode": {
    "name": "ipython",
    "version": 3
   },
   "file_extension": ".py",
   "mimetype": "text/x-python",
   "name": "python",
   "nbconvert_exporter": "python",
   "pygments_lexer": "ipython3",
   "version": "3.8.9"
  },
  "vscode": {
   "interpreter": {
    "hash": "3a2b94eab880d9510ce6ab088e2527b76546ed0dee7591e5d5a7ce69e4d46df7"
   }
  }
 },
 "nbformat": 4,
 "nbformat_minor": 5
}
