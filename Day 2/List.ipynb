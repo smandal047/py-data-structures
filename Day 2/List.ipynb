{
 "cells": [
  {
   "cell_type": "markdown",
   "id": "851ba4e8-075c-4b12-8f9d-8e9bd4a066b7",
   "metadata": {},
   "source": [
    "# Lists"
   ]
  },
  {
   "cell_type": "code",
   "execution_count": 1,
   "id": "44076f24-0709-405d-b65a-72ce3ce7047a",
   "metadata": {},
   "outputs": [],
   "source": [
    "l1 = [1,2,3,4]\n",
    "l2 = [5,6,4,1]"
   ]
  },
  {
   "cell_type": "markdown",
   "id": "4c1beb51-7496-4155-b90b-3c521d3e27de",
   "metadata": {
    "tags": []
   },
   "source": [
    "## list attributes"
   ]
  },
  {
   "cell_type": "markdown",
   "id": "a1a9538b-5377-4be9-bd84-81c175f3ddac",
   "metadata": {},
   "source": [
    "### append"
   ]
  },
  {
   "cell_type": "code",
   "execution_count": 2,
   "id": "a4c1ac8e-529a-4504-8f7d-9d4b2e74b341",
   "metadata": {},
   "outputs": [
    {
     "data": {
      "text/plain": [
       "[1, 2, 3, 4, 10]"
      ]
     },
     "execution_count": 2,
     "metadata": {},
     "output_type": "execute_result"
    }
   ],
   "source": [
    "l1.append(10) # appends the data at last or at index -1\n",
    "l1"
   ]
  },
  {
   "cell_type": "markdown",
   "id": "eeb55cd2-edda-4065-8a7c-1c0ab603a223",
   "metadata": {},
   "source": [
    "### extend"
   ]
  },
  {
   "cell_type": "code",
   "execution_count": 3,
   "id": "8e395339-0788-4d0f-aa2c-e9c669d7effa",
   "metadata": {},
   "outputs": [
    {
     "data": {
      "text/plain": [
       "[1, 2, 3, 4, 10, 5, 6, 4, 1]"
      ]
     },
     "execution_count": 3,
     "metadata": {},
     "output_type": "execute_result"
    }
   ],
   "source": [
    "l1.extend(l2) # concatinates two lists\n",
    "l1"
   ]
  },
  {
   "cell_type": "markdown",
   "id": "66b494f5-d0f8-401e-a8d6-0724960e77d9",
   "metadata": {},
   "source": [
    "### insert"
   ]
  },
  {
   "cell_type": "code",
   "execution_count": 4,
   "id": "bdff6bbe-8b4e-4f35-bb00-a20b50d5489e",
   "metadata": {},
   "outputs": [
    {
     "data": {
      "text/plain": [
       "[1, 55, 2, 3, 4, 10, 5, 6, 4, 1]"
      ]
     },
     "execution_count": 4,
     "metadata": {},
     "output_type": "execute_result"
    }
   ],
   "source": [
    "l1.insert(1, 55) # inserts at index 1\n",
    "l1"
   ]
  },
  {
   "cell_type": "markdown",
   "id": "71d3cfc6-1cbe-4c2a-9ab5-ab9f4e1161ff",
   "metadata": {},
   "source": [
    "### remove"
   ]
  },
  {
   "cell_type": "code",
   "execution_count": 5,
   "id": "5ddd7d4d-eed2-400d-a978-c7d4589caa3c",
   "metadata": {},
   "outputs": [
    {
     "data": {
      "text/plain": [
       "[1, 55, 2, 4, 10, 5, 6, 4, 1]"
      ]
     },
     "execution_count": 5,
     "metadata": {},
     "output_type": "execute_result"
    }
   ],
   "source": [
    "l1.remove(3) # finds and removes the first element (ie. 3) found\n",
    "l1"
   ]
  },
  {
   "cell_type": "markdown",
   "id": "c41a4e14-3419-4363-9ff5-1530a0e64fa7",
   "metadata": {},
   "source": [
    "### pop"
   ]
  },
  {
   "cell_type": "code",
   "execution_count": 6,
   "id": "a11a65cd-b81e-4351-a2d8-d471bbe95245",
   "metadata": {},
   "outputs": [
    {
     "data": {
      "text/plain": [
       "[1, 55, 2, 4, 10, 5, 6, 4]"
      ]
     },
     "execution_count": 6,
     "metadata": {},
     "output_type": "execute_result"
    }
   ],
   "source": [
    "l1.pop() # removes the last index\n",
    "l1"
   ]
  },
  {
   "cell_type": "code",
   "execution_count": 7,
   "id": "f234ccb3-d8d8-4a57-9fcb-5f65260913e3",
   "metadata": {},
   "outputs": [
    {
     "data": {
      "text/plain": [
       "[55, 2, 4, 10, 5, 6, 4]"
      ]
     },
     "execution_count": 7,
     "metadata": {},
     "output_type": "execute_result"
    }
   ],
   "source": [
    "l1.pop(0) # removes the index 0\n",
    "l1"
   ]
  },
  {
   "cell_type": "markdown",
   "id": "1041f516-6839-4c37-bb43-b9a28dae9bd2",
   "metadata": {},
   "source": [
    "### clear"
   ]
  },
  {
   "cell_type": "code",
   "execution_count": 8,
   "id": "723d944e-9d3d-4ad0-855a-70ecbb523a43",
   "metadata": {},
   "outputs": [
    {
     "data": {
      "text/plain": [
       "[]"
      ]
     },
     "execution_count": 8,
     "metadata": {},
     "output_type": "execute_result"
    }
   ],
   "source": [
    "l1.clear()\n",
    "l1"
   ]
  },
  {
   "cell_type": "markdown",
   "id": "bddbbe76-7ca2-4d97-a1a3-c7575d736ca6",
   "metadata": {},
   "source": [
    "### index"
   ]
  },
  {
   "cell_type": "code",
   "execution_count": 9,
   "id": "3a75f255-d89f-4cc6-8c1e-e0df8f05ab50",
   "metadata": {},
   "outputs": [
    {
     "data": {
      "text/plain": [
       "[5, 6, 4, 1]"
      ]
     },
     "execution_count": 9,
     "metadata": {},
     "output_type": "execute_result"
    }
   ],
   "source": [
    "l2"
   ]
  },
  {
   "cell_type": "code",
   "execution_count": 10,
   "id": "2248bf5f-57c7-4d72-a507-a9baaed26f58",
   "metadata": {},
   "outputs": [
    {
     "data": {
      "text/plain": [
       "2"
      ]
     },
     "execution_count": 10,
     "metadata": {},
     "output_type": "execute_result"
    }
   ],
   "source": [
    "l2.index(4) # returns the index of element 4 in the list"
   ]
  },
  {
   "cell_type": "code",
   "execution_count": 11,
   "id": "a5766677-2152-4693-8770-85ff307a7837",
   "metadata": {},
   "outputs": [
    {
     "data": {
      "text/plain": [
       "[5, 6]"
      ]
     },
     "execution_count": 11,
     "metadata": {},
     "output_type": "execute_result"
    }
   ],
   "source": [
    "l2[0:2] # slices the list in list[0:2] format"
   ]
  },
  {
   "cell_type": "code",
   "execution_count": 12,
   "id": "93a1be23-72a5-4e54-93c7-8c8d27b91652",
   "metadata": {},
   "outputs": [
    {
     "ename": "ValueError",
     "evalue": "4 is not in list",
     "output_type": "error",
     "traceback": [
      "\u001b[1;31m---------------------------------------------------------------------------\u001b[0m",
      "\u001b[1;31mValueError\u001b[0m                                Traceback (most recent call last)",
      "\u001b[1;32mD:\\temp\\Users\\ipykernel_14544\\2738427002.py\u001b[0m in \u001b[0;36m<module>\u001b[1;34m\u001b[0m\n\u001b[1;32m----> 1\u001b[1;33m \u001b[0ml2\u001b[0m\u001b[1;33m.\u001b[0m\u001b[0mindex\u001b[0m\u001b[1;33m(\u001b[0m\u001b[1;36m4\u001b[0m\u001b[1;33m,\u001b[0m \u001b[1;36m0\u001b[0m\u001b[1;33m,\u001b[0m \u001b[1;36m2\u001b[0m\u001b[1;33m)\u001b[0m \u001b[1;31m# retuns the index of element 4 in the list[0:2], if not found then raises ValueError\u001b[0m\u001b[1;33m\u001b[0m\u001b[1;33m\u001b[0m\u001b[0m\n\u001b[0m",
      "\u001b[1;31mValueError\u001b[0m: 4 is not in list"
     ]
    }
   ],
   "source": [
    "l2.index(4, 0, 2) # retuns the index of element 4 in the list[0:2], if not found then raises ValueError"
   ]
  },
  {
   "cell_type": "markdown",
   "id": "7f6c911f-6cc9-41ca-ac6b-ac8bcc11af7e",
   "metadata": {},
   "source": [
    "### count"
   ]
  },
  {
   "cell_type": "code",
   "execution_count": 13,
   "id": "e48a5857-86c8-4da7-9eeb-b5613dc8eb4a",
   "metadata": {},
   "outputs": [
    {
     "data": {
      "text/plain": [
       "4"
      ]
     },
     "execution_count": 13,
     "metadata": {},
     "output_type": "execute_result"
    }
   ],
   "source": [
    "l3 = [4,4,4,4,2,2,1]\n",
    "l3.count(4) # counts the element 4 in the list"
   ]
  },
  {
   "cell_type": "markdown",
   "id": "23fd48a8-48c7-486b-9a22-93bde40d1324",
   "metadata": {},
   "source": [
    "### sort"
   ]
  },
  {
   "cell_type": "code",
   "execution_count": 14,
   "id": "1caeccb6-929c-4859-b78b-c7f68d77fa82",
   "metadata": {},
   "outputs": [
    {
     "data": {
      "text/plain": [
       "[1, 4, 5, 6]"
      ]
     },
     "execution_count": 14,
     "metadata": {},
     "output_type": "execute_result"
    }
   ],
   "source": [
    "l2.sort()\n",
    "l2"
   ]
  },
  {
   "cell_type": "code",
   "execution_count": 15,
   "id": "72930f76-44df-4d6e-b6ed-fb00e3f4d238",
   "metadata": {},
   "outputs": [
    {
     "data": {
      "text/plain": [
       "[6, 5, 4, 1]"
      ]
     },
     "execution_count": 15,
     "metadata": {},
     "output_type": "execute_result"
    }
   ],
   "source": [
    "l2.sort(reverse=True)\n",
    "l2"
   ]
  },
  {
   "cell_type": "code",
   "execution_count": 16,
   "id": "7633d1d8-3505-4db4-b9ea-4af72fe3fa34",
   "metadata": {},
   "outputs": [
    {
     "data": {
      "text/plain": [
       "['VW', 'BMW', 'Ford', 'Mitsubishi']"
      ]
     },
     "execution_count": 16,
     "metadata": {},
     "output_type": "execute_result"
    }
   ],
   "source": [
    "l4 = ['Ford', 'Mitsubishi', 'BMW', 'VW']\n",
    "\n",
    "\n",
    "def my_func(e):\n",
    "    return len(e)\n",
    "    \n",
    "l4.sort(key=my_func)\n",
    "l4"
   ]
  },
  {
   "cell_type": "markdown",
   "id": "9a348ae8-aace-4af9-9453-742699bc0142",
   "metadata": {},
   "source": [
    "### reverse"
   ]
  },
  {
   "cell_type": "code",
   "execution_count": 17,
   "id": "3b7bcae1-24d0-4957-b545-8536d43cbbc4",
   "metadata": {},
   "outputs": [
    {
     "data": {
      "text/plain": [
       "['Mitsubishi', 'Ford', 'BMW', 'VW']"
      ]
     },
     "execution_count": 17,
     "metadata": {},
     "output_type": "execute_result"
    }
   ],
   "source": [
    "l4.reverse() # reverse the order of existing list\n",
    "l4"
   ]
  },
  {
   "cell_type": "markdown",
   "id": "5c0e6695-9d8a-4b80-91c8-2941dfa2fd45",
   "metadata": {},
   "source": [
    "### copy"
   ]
  },
  {
   "cell_type": "code",
   "execution_count": 18,
   "id": "4995e974-2e6e-45b2-b350-397037c9a361",
   "metadata": {},
   "outputs": [
    {
     "data": {
      "text/plain": [
       "['Mitsubishi', 'Ford', 'BMW', 'VW']"
      ]
     },
     "execution_count": 18,
     "metadata": {},
     "output_type": "execute_result"
    }
   ],
   "source": [
    "l4.copy()"
   ]
  },
  {
   "cell_type": "markdown",
   "id": "f3da2a2b-6815-4b7b-9123-f0285657d72e",
   "metadata": {
    "toc-hr-collapsed": true
   },
   "source": [
    "## inbuild functions"
   ]
  },
  {
   "cell_type": "code",
   "execution_count": 8,
   "id": "09f8e194-130b-4215-a25e-127c2f9ee6e2",
   "metadata": {},
   "outputs": [
    {
     "data": {
      "text/plain": [
       "[1, 2, 3, 4, 5, 6, 7, 8, 9, 10]"
      ]
     },
     "execution_count": 8,
     "metadata": {},
     "output_type": "execute_result"
    }
   ],
   "source": [
    "list(range(1,11))"
   ]
  },
  {
   "cell_type": "code",
   "execution_count": null,
   "id": "d188cd8e-18d2-49df-b7a2-342a7d65aa1b",
   "metadata": {},
   "outputs": [],
   "source": []
  },
  {
   "cell_type": "code",
   "execution_count": null,
   "id": "a91ef468-cdb9-407a-b550-44ee4fd5cc91",
   "metadata": {},
   "outputs": [],
   "source": []
  },
  {
   "cell_type": "markdown",
   "id": "abdbe162-f2a2-4424-98e0-35490f6a72b1",
   "metadata": {},
   "source": [
    "## Dynamic Array"
   ]
  },
  {
   "cell_type": "markdown",
   "id": "35ce8f71-bdd6-4a44-8972-9ec1a66dd2d1",
   "metadata": {},
   "source": [
    "sole purpose of dynamic array is to understand how python list auto-increment its capacity or size on running out of existing allotcated memory"
   ]
  },
  {
   "cell_type": "code",
   "execution_count": 67,
   "id": "6ef9ae7c-12dd-4ea7-ac91-cc81969eeeef",
   "metadata": {},
   "outputs": [],
   "source": [
    "import ctypes\n",
    "\n",
    "class DyanamicArray:\n",
    "    \n",
    "    def __init__(self, size=1):\n",
    "        \n",
    "        self.length = 0\n",
    "        self.capacity = size\n",
    "        self.array = self.make_array(self.capacity)\n",
    "        \n",
    "    def __len__(self):\n",
    "        \n",
    "        return self.length\n",
    "        \n",
    "    def __getitem__(self, index):\n",
    "        \n",
    "        if not 0 <= index < self.length:\n",
    "            raise IndexError(f'bad index {index}')\n",
    "            \n",
    "        return self.array[index]\n",
    "    \n",
    "    def append(self, item):\n",
    "        \n",
    "        if self.length == self.capacity:\n",
    "            self._resize(self.capacity * 2)\n",
    "            \n",
    "        self.array[self.length] = item\n",
    "        self.length += 1\n",
    "            \n",
    "    def _resize(self, size):\n",
    "        \n",
    "        temp = self.make_array(size)\n",
    "        \n",
    "        for i in range(self.length):\n",
    "            temp[i] = self.array[i]\n",
    "            \n",
    "        self.array = temp\n",
    "        self.capacity = size\n",
    "        \n",
    "    def make_array(self, size):\n",
    "        \n",
    "        return (size*ctypes.py_object)()\n",
    "    \n",
    "    def __repr__(self):\n",
    "        \n",
    "        return str(self.array)\n",
    "        "
   ]
  },
  {
   "cell_type": "code",
   "execution_count": 52,
   "id": "d2aa1968-0567-45d6-bd2a-1843b80dd683",
   "metadata": {},
   "outputs": [],
   "source": [
    "arr = DyanamicArray()"
   ]
  },
  {
   "cell_type": "code",
   "execution_count": 53,
   "id": "5d31e2cc-a621-41f8-8fd0-7f705ecaa50e",
   "metadata": {},
   "outputs": [
    {
     "data": {
      "text/plain": [
       "__main__.DyanamicArray"
      ]
     },
     "execution_count": 53,
     "metadata": {},
     "output_type": "execute_result"
    }
   ],
   "source": [
    "type(arr)"
   ]
  },
  {
   "cell_type": "code",
   "execution_count": 54,
   "id": "d92bc1d9-4ac2-456e-81c7-ac744ee9a36d",
   "metadata": {},
   "outputs": [],
   "source": [
    "for i in range(10):\n",
    "    arr.append(i)"
   ]
  },
  {
   "cell_type": "code",
   "execution_count": 55,
   "id": "fe08e13a-0663-4ab1-b41d-42a365007691",
   "metadata": {},
   "outputs": [
    {
     "data": {
      "text/plain": [
       "<__main__.DyanamicArray at 0x10f647040>"
      ]
     },
     "execution_count": 55,
     "metadata": {},
     "output_type": "execute_result"
    }
   ],
   "source": [
    "arr"
   ]
  },
  {
   "cell_type": "code",
   "execution_count": 69,
   "id": "d3801ac5-b574-430b-8a83-7edb39b754a2",
   "metadata": {},
   "outputs": [
    {
     "name": "stdout",
     "output_type": "stream",
     "text": [
      "8\n",
      "8\n",
      "16\n",
      "32\n",
      "32\n",
      "64\n",
      "64\n",
      "64\n",
      "64\n",
      "128\n",
      "128\n"
     ]
    },
    {
     "data": {
      "text/plain": [
       "<__main__.py_object_Array_16 object at 0x10fbff1c0>"
      ]
     },
     "execution_count": 69,
     "metadata": {},
     "output_type": "execute_result"
    }
   ],
   "source": [
    "from ctypes import sizeof\n",
    "from sys import getsizeof\n",
    "\n",
    "arr1 = DyanamicArray()\n",
    "print(sizeof(arr1.array))\n",
    "\n",
    "for i in range(10):\n",
    "    \n",
    "    arr1.append(i)\n",
    "    print(sizeof(arr1.array))\n",
    "arr1"
   ]
  },
  {
   "cell_type": "code",
   "execution_count": 70,
   "id": "f6838e11-3fd1-4f08-b2ad-b90fceb7a59d",
   "metadata": {},
   "outputs": [
    {
     "name": "stdout",
     "output_type": "stream",
     "text": [
      "56\n",
      "88\n",
      "88\n",
      "88\n",
      "88\n",
      "120\n",
      "120\n",
      "120\n",
      "120\n",
      "184\n",
      "184\n"
     ]
    },
    {
     "data": {
      "text/plain": [
       "[0, 1, 2, 3, 4, 5, 6, 7, 8, 9]"
      ]
     },
     "execution_count": 70,
     "metadata": {},
     "output_type": "execute_result"
    }
   ],
   "source": [
    "import sys\n",
    "\n",
    "arr2 = []\n",
    "print(sys.getsizeof(arr2))\n",
    "\n",
    "for i in range(10):\n",
    "    \n",
    "    arr2.append(i)\n",
    "    print(sys.getsizeof(arr2))\n",
    "arr2"
   ]
  },
  {
   "cell_type": "markdown",
   "id": "286622a4-f9a0-4150-a9bc-50f75114e3c6",
   "metadata": {
    "tags": []
   },
   "source": [
    "## Questions ??"
   ]
  },
  {
   "cell_type": "markdown",
   "id": "c42a0952-c5cb-4847-9b77-b6754e130b32",
   "metadata": {
    "toc-hr-collapsed": true
   },
   "source": [
    "### Anagram Test"
   ]
  },
  {
   "cell_type": "code",
   "execution_count": 42,
   "id": "9fec79dd-6b9e-4f6a-9c00-0c008022ca11",
   "metadata": {},
   "outputs": [],
   "source": [
    "def check_anagram(s1, s2):\n",
    "    \"\"\" Like 'dog' is anagram of 'god'\n",
    "    \n",
    "        Ignoring all the spaces\n",
    "        \n",
    "        Time complexity = O(n)\n",
    "        Space complexity = O(1)\n",
    "    \n",
    "    \"\"\"\n",
    "    \n",
    "    \n",
    "    s1 = s1.replace(' ', '')\n",
    "    s2 = s2.replace(' ', '')\n",
    "    \n",
    "    # return sorted(s1) == sorted(s2) # solution 1\n",
    "    \n",
    "    if len(s1) == len(s2):\n",
    "        \n",
    "        for i in s1:\n",
    "            s2 = s2.replace(i, '', 1)\n",
    "        \n",
    "        if len(s2) == 0:\n",
    "            return True\n",
    "        \n",
    "    return False\n",
    "        \n",
    "    \n",
    "    \n",
    "    "
   ]
  },
  {
   "cell_type": "code",
   "execution_count": 43,
   "id": "fa74c207-112f-4e02-8093-ca2fb276c1c0",
   "metadata": {
    "tags": []
   },
   "outputs": [
    {
     "data": {
      "text/plain": [
       "True"
      ]
     },
     "execution_count": 43,
     "metadata": {},
     "output_type": "execute_result"
    }
   ],
   "source": [
    "check_anagram('dog', 'god')"
   ]
  },
  {
   "cell_type": "code",
   "execution_count": 44,
   "id": "c373f8df-f77d-4a06-a05a-fac34167cd01",
   "metadata": {},
   "outputs": [
    {
     "data": {
      "text/plain": [
       "True"
      ]
     },
     "execution_count": 44,
     "metadata": {},
     "output_type": "execute_result"
    }
   ],
   "source": [
    "check_anagram('go go go', 'gggooo')"
   ]
  },
  {
   "cell_type": "code",
   "execution_count": 46,
   "id": "15d486df-14f2-4fe5-84a7-f76a96f6b3f1",
   "metadata": {},
   "outputs": [
    {
     "data": {
      "text/plain": [
       "True"
      ]
     },
     "execution_count": 46,
     "metadata": {},
     "output_type": "execute_result"
    }
   ],
   "source": [
    "check_anagram('public relations', 'crap built on lies')"
   ]
  },
  {
   "cell_type": "markdown",
   "id": "ca0774a1-0db6-4f97-a643-cea14aaf4fd8",
   "metadata": {},
   "source": [
    "### Array Pair Sum"
   ]
  },
  {
   "cell_type": "code",
   "execution_count": 10,
   "id": "18dd384f-871f-4721-9d19-400d7bedb6dd",
   "metadata": {},
   "outputs": [],
   "source": [
    "def get_array_pair(arr: list, k:int) -> list:\n",
    "    \"\"\" arr = [1,3,2,2] k = 4\n",
    "    \n",
    "        return (1,3) and (2,2)\n",
    "        \n",
    "        the method should return unique pairs that have summation equal to 'k'\n",
    "        \n",
    "        Time complexity = O(n)\n",
    "        Space complexity = \n",
    "    \"\"\"\n",
    "    \n",
    "    output = set()\n",
    "    seen = set()\n",
    "    \n",
    "    if len(arr) < 2:\n",
    "        return output\n",
    "    \n",
    "    \n",
    "    for num in arr:\n",
    "        \n",
    "        target = k - num\n",
    "        \n",
    "        if target not in arr or target in seen:\n",
    "            seen.add(num)\n",
    "        else:\n",
    "            output.add( (  min(num, target), max(num, target)  ) )\n",
    "        \n",
    "    return output\n",
    "        \n",
    "    "
   ]
  },
  {
   "cell_type": "code",
   "execution_count": 11,
   "id": "f28eda4e-714e-4ac5-92d1-75447bf2cce6",
   "metadata": {},
   "outputs": [
    {
     "name": "stdout",
     "output_type": "stream",
     "text": [
      "{(1, 3), (2, 2)}\n",
      "{(-1, 11), (5, 5), (3, 7), (4, 6), (1, 9), (2, 8)}\n",
      "{(1, 2)}\n",
      "{(1, 3), (2, 2)}\n"
     ]
    }
   ],
   "source": [
    "print(get_array_pair([1,3,2,2], 4))\n",
    "print(get_array_pair([1,9,2,8,3,7,4,6,5,5,13,14,11,13,-1],10))\n",
    "print(get_array_pair([1,2,3,1],3))\n",
    "print(get_array_pair([1,3,2,2],4))"
   ]
  }
 ],
 "metadata": {
  "kernelspec": {
   "display_name": "Python 3 (ipykernel)",
   "language": "python",
   "name": "python3"
  },
  "language_info": {
   "codemirror_mode": {
    "name": "ipython",
    "version": 3
   },
   "file_extension": ".py",
   "mimetype": "text/x-python",
   "name": "python",
   "nbconvert_exporter": "python",
   "pygments_lexer": "ipython3",
   "version": "3.8.9"
  }
 },
 "nbformat": 4,
 "nbformat_minor": 5
}
