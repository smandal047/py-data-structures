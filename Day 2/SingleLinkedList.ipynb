{
 "cells": [
  {
   "cell_type": "code",
   "execution_count": 13,
   "id": "9d17affc-1d41-4024-98c2-4cc24ca54fb7",
   "metadata": {},
   "outputs": [],
   "source": [
    "class SinglyLinkedListNode:\n",
    "    def __init__(self, data):\n",
    "        self.data = data\n",
    "        self.next = None"
   ]
  },
  {
   "cell_type": "code",
   "execution_count": 14,
   "id": "3734ca72-baaf-4033-9491-505c005dc60b",
   "metadata": {},
   "outputs": [],
   "source": [
    "class SinglyLinkedList:\n",
    "    def __init__(self):\n",
    "        self.head = None\n",
    "        self.tail = None\n",
    "\n",
    "    def insert_node(self, node_data):\n",
    "        node = SinglyLinkedListNode(node_data)\n",
    "\n",
    "        if not self.head:\n",
    "            self.head = node\n",
    "        else:\n",
    "            self.tail.next = node\n",
    "\n",
    "        self.tail = node\n",
    "    \n",
    "    def print(self):\n",
    "        \n",
    "        node = self.head\n",
    "        while node:\n",
    "            print(node.data, end=' ')\n",
    "            node = node.next\n",
    "        \n",
    "    # using iteration\n",
    "    def delete(self, position=0):\n",
    "        \n",
    "        node = self.head\n",
    "        if position == 0:\n",
    "            self.head = node.next\n",
    "            \n",
    "            return\n",
    "        \n",
    "        count = 0\n",
    "        while node:\n",
    "            count += 1\n",
    "            \n",
    "            if count == position:\n",
    "                del_node = node.next\n",
    "                node.next = del_node.next\n",
    "                \n",
    "                return\n",
    "                \n",
    "            node = node.next\n",
    "        \n",
    "        \n",
    "        "
   ]
  },
  {
   "cell_type": "code",
   "execution_count": 15,
   "id": "e15e7949-8aab-4ad4-969c-20dd22f8ecea",
   "metadata": {},
   "outputs": [],
   "source": [
    "a = [1,5,6,8,9]"
   ]
  },
  {
   "cell_type": "code",
   "execution_count": 16,
   "id": "1079dc90-1a5d-46bd-987e-c8c3436f1a3d",
   "metadata": {},
   "outputs": [],
   "source": [
    "llist = SinglyLinkedList()\n",
    "for data in a:\n",
    "    llist.insert_node(data)"
   ]
  },
  {
   "cell_type": "code",
   "execution_count": 17,
   "id": "3e6410a5-acd4-4577-ac9f-9217ffc6a468",
   "metadata": {},
   "outputs": [
    {
     "name": "stdout",
     "output_type": "stream",
     "text": [
      "1 5 6 8 9 "
     ]
    }
   ],
   "source": [
    "llist.print()"
   ]
  },
  {
   "cell_type": "code",
   "execution_count": 18,
   "id": "1780a29b-3e33-43fc-a2d1-205750f8d187",
   "metadata": {},
   "outputs": [],
   "source": [
    "llist.delete(2)"
   ]
  },
  {
   "cell_type": "code",
   "execution_count": 19,
   "id": "f7659261-6cea-452f-9de8-ceb28fb311a2",
   "metadata": {},
   "outputs": [
    {
     "name": "stdout",
     "output_type": "stream",
     "text": [
      "1 5 8 9 "
     ]
    }
   ],
   "source": [
    "llist.print()"
   ]
  },
  {
   "cell_type": "code",
   "execution_count": 20,
   "id": "9034fcb3-3b54-4bd6-aa59-b3de51fad491",
   "metadata": {},
   "outputs": [],
   "source": [
    "llist.delete(2)"
   ]
  },
  {
   "cell_type": "code",
   "execution_count": 21,
   "id": "8b897f41-a4a1-4d1f-9db7-c60ffca27743",
   "metadata": {},
   "outputs": [
    {
     "name": "stdout",
     "output_type": "stream",
     "text": [
      "1 5 9 "
     ]
    }
   ],
   "source": [
    "llist.print()"
   ]
  },
  {
   "cell_type": "code",
   "execution_count": 28,
   "id": "e556a476-d75e-4b25-a8d8-ddcf501d5122",
   "metadata": {},
   "outputs": [],
   "source": [
    "# 12345\n",
    "# 54321\n",
    "\n",
    "from copy import deepcopy\n",
    "def reverse(llist):\n",
    "    # Write your code here\n",
    "    \n",
    "    curr_node = llist\n",
    "    prev_node = None\n",
    "    next_node = None\n",
    "    \n",
    "    while next_node:\n",
    "        next_node = curr_node.next\n",
    "        prev_node = curr_node\n",
    "        curr_node.next = prev_node\n",
    "        curr_node = next_node\n",
    "        \n",
    "        \n",
    "    return llist"
   ]
  },
  {
   "cell_type": "code",
   "execution_count": 27,
   "id": "06f5b2fa-c52d-4850-a342-9f8629d4a9b9",
   "metadata": {},
   "outputs": [
    {
     "name": "stdout",
     "output_type": "stream",
     "text": [
      "1 5 6 8 9 \n",
      "\n",
      "1 5 6 8 9 "
     ]
    }
   ],
   "source": [
    "llist1 = SinglyLinkedList()\n",
    "for data in a:\n",
    "    llist1.insert_node(data)\n",
    "    \n",
    "llist.print()\n",
    "print('\\n')\n",
    "l = reverse(llist1.head)\n",
    "while l:\n",
    "    print(l.data, end =' ')\n",
    "    l = l.next"
   ]
  }
 ],
 "metadata": {
  "kernelspec": {
   "display_name": "Python 3 (ipykernel)",
   "language": "python",
   "name": "python3"
  },
  "language_info": {
   "codemirror_mode": {
    "name": "ipython",
    "version": 3
   },
   "file_extension": ".py",
   "mimetype": "text/x-python",
   "name": "python",
   "nbconvert_exporter": "python",
   "pygments_lexer": "ipython3",
   "version": "3.7.5"
  }
 },
 "nbformat": 4,
 "nbformat_minor": 5
}
