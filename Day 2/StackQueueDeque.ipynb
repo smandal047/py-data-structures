{
 "cells": [
  {
   "cell_type": "markdown",
   "metadata": {},
   "source": [
    "# Stacks"
   ]
  },
  {
   "cell_type": "code",
   "execution_count": 3,
   "metadata": {},
   "outputs": [],
   "source": [
    "from typing import Any\n",
    "\n",
    "class Stacks:\n",
    "\n",
    "    def __init__(self) -> None:\n",
    "        self.item = []\n",
    "\n",
    "    def push(self, obj: Any) -> None:\n",
    "        self.item.append(obj)\n",
    "\n",
    "    def pop(self) -> Any:\n",
    "        self.item.pop()\n",
    "    \n",
    "    def peek(self) -> Any:\n",
    "        return self.item[-1]\n",
    "\n",
    "    def isEmpty(self) -> bool:\n",
    "        return self.item == []\n",
    "\n",
    "    def size(self) -> int:\n",
    "        return len(self.item)"
   ]
  },
  {
   "cell_type": "code",
   "execution_count": 4,
   "metadata": {},
   "outputs": [],
   "source": [
    "s = Stacks()"
   ]
  },
  {
   "cell_type": "code",
   "execution_count": 5,
   "metadata": {},
   "outputs": [],
   "source": [
    "s.push(1)"
   ]
  },
  {
   "cell_type": "code",
   "execution_count": 6,
   "metadata": {},
   "outputs": [
    {
     "data": {
      "text/plain": [
       "1"
      ]
     },
     "execution_count": 6,
     "metadata": {},
     "output_type": "execute_result"
    }
   ],
   "source": [
    "s.peek()"
   ]
  },
  {
   "cell_type": "markdown",
   "metadata": {},
   "source": [
    "# Queue"
   ]
  },
  {
   "cell_type": "code",
   "execution_count": 1,
   "metadata": {},
   "outputs": [],
   "source": [
    "from typing import Any\n",
    "\n",
    "class Queue:\n",
    "\n",
    "\n",
    "    def __init__(self) -> None:\n",
    "        self.items = []\n",
    "\n",
    "    def enqueue(self, item: Any)-> None:\n",
    "        self.items.insert(0, item)\n",
    "\n",
    "    def dequeue(self) -> Any:\n",
    "        return self.items.pop()\n",
    "\n",
    "    def isEmpty(self) -> bool:\n",
    "        return self.items == []\n",
    "\n",
    "    def size(self) -> int:\n",
    "        return len(self.items)"
   ]
  },
  {
   "cell_type": "code",
   "execution_count": 2,
   "metadata": {},
   "outputs": [],
   "source": [
    "q = Queue()"
   ]
  },
  {
   "cell_type": "code",
   "execution_count": 3,
   "metadata": {},
   "outputs": [],
   "source": [
    "q.enqueue(1)"
   ]
  },
  {
   "cell_type": "code",
   "execution_count": 4,
   "metadata": {},
   "outputs": [
    {
     "data": {
      "text/plain": [
       "1"
      ]
     },
     "execution_count": 4,
     "metadata": {},
     "output_type": "execute_result"
    }
   ],
   "source": [
    "q.size()"
   ]
  },
  {
   "cell_type": "code",
   "execution_count": 7,
   "metadata": {},
   "outputs": [
    {
     "data": {
      "text/plain": [
       "1"
      ]
     },
     "execution_count": 7,
     "metadata": {},
     "output_type": "execute_result"
    }
   ],
   "source": [
    "q.dequeue()"
   ]
  },
  {
   "cell_type": "code",
   "execution_count": 8,
   "metadata": {},
   "outputs": [
    {
     "data": {
      "text/plain": [
       "True"
      ]
     },
     "execution_count": 8,
     "metadata": {},
     "output_type": "execute_result"
    }
   ],
   "source": [
    "q.isEmpty()"
   ]
  },
  {
   "cell_type": "markdown",
   "metadata": {},
   "source": [
    "# Deque"
   ]
  },
  {
   "cell_type": "code",
   "execution_count": 9,
   "metadata": {},
   "outputs": [],
   "source": [
    "from typing import Any\n",
    "\n",
    "class Deque:\n",
    "\n",
    "    def __init__(self) -> None:\n",
    "        self.items = []\n",
    "\n",
    "    def addFront(self, item: Any) -> None:\n",
    "        self.items.append(item)\n",
    "\n",
    "    def addRear(self, item: Any) -> None:\n",
    "        self.items.insert(0, item)\n",
    "\n",
    "    def removeFront(self) -> Any:\n",
    "        self.items.pop()\n",
    "\n",
    "    def removeRear(self) -> Any:\n",
    "        self.items.pop(0)\n",
    "\n",
    "    def isEmpty(self) -> bool:\n",
    "        return self.items == []\n",
    "\n",
    "    def size(self) -> int:\n",
    "        return len(self.items)"
   ]
  },
  {
   "cell_type": "code",
   "execution_count": 13,
   "metadata": {},
   "outputs": [],
   "source": [
    "d = Deque()"
   ]
  },
  {
   "cell_type": "code",
   "execution_count": 14,
   "metadata": {},
   "outputs": [
    {
     "name": "stdout",
     "output_type": "stream",
     "text": [
      "[5, 9, 1]\n"
     ]
    }
   ],
   "source": [
    "d.addFront(1)\n",
    "d.addRear(9)\n",
    "d.addRear(5)\n",
    "# [5,9,1]\n",
    "print(d.items)"
   ]
  },
  {
   "cell_type": "code",
   "execution_count": 15,
   "metadata": {},
   "outputs": [
    {
     "name": "stdout",
     "output_type": "stream",
     "text": [
      "[9, 1]\n",
      "[9]\n"
     ]
    }
   ],
   "source": [
    "d.removeRear()\n",
    "print(d.items)\n",
    "d.removeFront()\n",
    "print(d.items)"
   ]
  },
  {
   "cell_type": "code",
   "execution_count": 16,
   "metadata": {},
   "outputs": [
    {
     "data": {
      "text/plain": [
       "1"
      ]
     },
     "execution_count": 16,
     "metadata": {},
     "output_type": "execute_result"
    }
   ],
   "source": [
    "d.size()"
   ]
  },
  {
   "cell_type": "markdown",
   "metadata": {},
   "source": [
    "## Balanced Parentheses"
   ]
  },
  {
   "cell_type": "code",
   "execution_count": 24,
   "metadata": {},
   "outputs": [
    {
     "data": {
      "text/plain": [
       "True"
      ]
     },
     "execution_count": 24,
     "metadata": {},
     "output_type": "execute_result"
    }
   ],
   "source": [
    "def balanced(arr: str) -> bool:\n",
    "\n",
    "    if len(arr)%2 != 0:\n",
    "        return False\n",
    "\n",
    "    stack = []\n",
    "    bracket_pairs ={\n",
    "        '{': '}',\n",
    "        '[': ']',\n",
    "        '(': ')'\n",
    "    }\n",
    "\n",
    "    for i in arr:\n",
    "        if i in bracket_pairs.keys():\n",
    "            stack.append(bracket_pairs[i])\n",
    "        else:\n",
    "            if i != stack.pop():\n",
    "                return False\n",
    "\n",
    "    return stack == []\n",
    "\n",
    "\n",
    "balanced('((({{}})))')"
   ]
  }
 ],
 "metadata": {
  "kernelspec": {
   "display_name": "Python 3.8.9 ('venv': venv)",
   "language": "python",
   "name": "python3"
  },
  "language_info": {
   "codemirror_mode": {
    "name": "ipython",
    "version": 3
   },
   "file_extension": ".py",
   "mimetype": "text/x-python",
   "name": "python",
   "nbconvert_exporter": "python",
   "pygments_lexer": "ipython3",
   "version": "3.8.9"
  },
  "orig_nbformat": 4,
  "vscode": {
   "interpreter": {
    "hash": "3a2b94eab880d9510ce6ab088e2527b76546ed0dee7591e5d5a7ce69e4d46df7"
   }
  }
 },
 "nbformat": 4,
 "nbformat_minor": 2
}
